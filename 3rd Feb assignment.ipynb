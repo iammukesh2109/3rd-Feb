{
 "cells": [
  {
   "cell_type": "code",
   "execution_count": 3,
   "id": "5fdf5aa0-993f-4e9a-b06c-5b91ea891a5c",
   "metadata": {},
   "outputs": [],
   "source": [
    "#1.Which keyword is used to create a function? Create a function to return a list of odd numbers in the range of 1 to 25?\n",
    "\"\"\"The keyword used to create a function in Python is \"def\".\"\"\"\n",
    "def odd_numbers():\n",
    "    odds = []\n",
    "    for num in range(1, 26):\n",
    "        if num % 2 != 0:\n",
    "            odds.append(num)\n",
    "    return odds\n"
   ]
  },
  {
   "cell_type": "code",
   "execution_count": 4,
   "id": "143d69f6-71ea-47be-b110-886b4d69ceaa",
   "metadata": {},
   "outputs": [
    {
     "name": "stdout",
     "output_type": "stream",
     "text": [
      "[1, 3, 5, 7, 9, 11, 13, 15, 17, 19, 21, 23, 25]\n"
     ]
    }
   ],
   "source": [
    "result = odd_numbers()\n",
    "print(result)\n"
   ]
  },
  {
   "cell_type": "code",
   "execution_count": 5,
   "id": "bd219ff7-d23b-426f-b9f3-1a8be01d2105",
   "metadata": {},
   "outputs": [
    {
     "data": {
      "text/plain": [
       "'*args and **kwargs are special syntax in Python that allow functions to accept a variable number of arguments.\\n\\n*args is used to pass a variable number of non-keyword arguments to a function. The * before args tells Python to take all the arguments that are \\npassed to the function and pack them into a tuple. The function can then access the tuple as the argument args.'"
      ]
     },
     "execution_count": 5,
     "metadata": {},
     "output_type": "execute_result"
    }
   ],
   "source": [
    "#2.Why *args and **kwargs is used in some funtions? Create a function of each for *args and *kwargs to demonstrate their use?\n",
    "\"\"\"*args and **kwargs are special syntax in Python that allow functions to accept a variable number of arguments.\n",
    "\n",
    "*args is used to pass a variable number of non-keyword arguments to a function. The * before args tells Python to take all the arguments that are \n",
    "passed to the function and pack them into a tuple. The function can then access the tuple as the argument args.\"\"\"\n",
    "\n"
   ]
  },
  {
   "cell_type": "code",
   "execution_count": 6,
   "id": "f81ed1c8-f2b1-45d2-abec-1cd515a38681",
   "metadata": {},
   "outputs": [
    {
     "data": {
      "text/plain": [
       "'In this function, we use a for loop to iterate through each number in the args tuple, and we add it to a running total. Finally, we return the \\ntotal. To use this function, you can call it with any number of arguments:'"
      ]
     },
     "execution_count": 6,
     "metadata": {},
     "output_type": "execute_result"
    }
   ],
   "source": [
    "\"\"\"Here's an example function that uses *args to sum up a variable number of numbers:\"\"\"\n",
    "def sum_numbers(*args):\n",
    "    total = 0\n",
    "    for num in args:\n",
    "        total += num\n",
    "    return total\n",
    "\"\"\"In this function, we use a for loop to iterate through each number in the args tuple, and we add it to a running total. Finally, we return the \n",
    "total. To use this function, you can call it with any number of arguments:\"\"\""
   ]
  },
  {
   "cell_type": "code",
   "execution_count": 7,
   "id": "02c5d488-5e1f-49a4-8a7a-06ff21affa48",
   "metadata": {},
   "outputs": [
    {
     "name": "stdout",
     "output_type": "stream",
     "text": [
      "10\n"
     ]
    }
   ],
   "source": [
    "result = sum_numbers(1, 2, 3, 4)\n",
    "print(result)  # Output: 10\n"
   ]
  },
  {
   "cell_type": "code",
   "execution_count": 9,
   "id": "e8f64ec0-c54f-4116-845c-6e480a9acf5a",
   "metadata": {},
   "outputs": [
    {
     "name": "stdout",
     "output_type": "stream",
     "text": [
      "name: Alice\n",
      "age: 25\n",
      "city: New York\n"
     ]
    },
    {
     "data": {
      "text/plain": [
       "'In this function, we use a for loop to iterate through each key-value pair in the kwargs dictionary, and we print it out. To use this function, you\\ncan call it with any number of keyword arguments:'"
      ]
     },
     "execution_count": 9,
     "metadata": {},
     "output_type": "execute_result"
    }
   ],
   "source": [
    "\"\"\"**kwargs is used to pass a variable number of keyword arguments to a function. The ** before kwargs tells Python to take all the keyword arguments\n",
    "that are passed to the function and pack them into a dictionary. The function can then access the dictionary as the argument kwargs.\n",
    "\n",
    "Here's an example function that uses **kwargs to print out a variable number of key-value pairs:\"\"\"\n",
    "def print_kwargs(**kwargs):\n",
    "    for key, value in kwargs.items():\n",
    "        print(f\"{key}: {value}\")\n",
    "\n",
    "print_kwargs(name=\"Alice\", age=25, city=\"New York\")\n",
    "\"\"\"In this function, we use a for loop to iterate through each key-value pair in the kwargs dictionary, and we print it out. To use this function, you\n",
    "can call it with any number of keyword arguments:\"\"\""
   ]
  },
  {
   "cell_type": "code",
   "execution_count": 11,
   "id": "3af250c9-a9e7-490e-bbe6-c898e892467f",
   "metadata": {},
   "outputs": [
    {
     "name": "stdout",
     "output_type": "stream",
     "text": [
      "2\n",
      "4\n",
      "6\n",
      "8\n",
      "10\n"
     ]
    },
    {
     "data": {
      "text/plain": [
       "'In this code, we first create a list called my_list. We then initialize an iterator object called my_iterator using the iter() function and passing \\nin my_list as the argument.\\n\\nWe then use a for loop to iterate over the first five elements of the iterator. We use the next() method to get the next element in the sequence, and \\nwe print it out. The range(5) function is used to loop through the first five elements of the sequence. Once we have exhausted the elements in the \\niterator, calling next() again will raise a StopIteration exception.'"
      ]
     },
     "execution_count": 11,
     "metadata": {},
     "output_type": "execute_result"
    }
   ],
   "source": [
    "#3.What is an iterator in python? Name the method used to initialise the iterator object and the method used for iteration. Use these methods to print\n",
    "#the first five elements of the given list [2,4,6,8,10,12,14,16,18,20].\n",
    "\"\"\"An iterator in Python is an object that can be iterated (looped) upon, meaning that you can traverse through all the values of an iterable using \n",
    "an iterator. An iterable is any object that can return its elements one at a time, such as a list, tuple, string, or dictionary.\n",
    "\n",
    "The iter() function is used to initialize an iterator object from an iterable. The next() method is used to iterate over the iterator and return the \n",
    "next element in the sequence.\n",
    "\n",
    "Here's an example of how to use these methods to print the first five elements of the given list [2, 4, 6, 8, 10, 12, 14, 16, 18, 20]:\"\"\"\n",
    "my_list = [2, 4, 6, 8, 10, 12, 14, 16, 18, 20]\n",
    "my_iterator = iter(my_list)\n",
    "\n",
    "for i in range(5):\n",
    "    print(next(my_iterator))\n",
    "\"\"\"In this code, we first create a list called my_list. We then initialize an iterator object called my_iterator using the iter() function and passing \n",
    "in my_list as the argument.\n",
    "\n",
    "We then use a for loop to iterate over the first five elements of the iterator. We use the next() method to get the next element in the sequence, and \n",
    "we print it out. The range(5) function is used to loop through the first five elements of the sequence. Once we have exhausted the elements in the \n",
    "iterator, calling next() again will raise a StopIteration exception.\"\"\""
   ]
  },
  {
   "cell_type": "code",
   "execution_count": 12,
   "id": "a33f4a98-b14e-411d-a1e7-98a64bd6c9fd",
   "metadata": {},
   "outputs": [],
   "source": [
    "#4.What is a generator function in Python? Why yield keyword is used ? Give an example of a generator function.\n",
    "\"\"\"A generator function in Python is a special type of function that can be used to create iterators. It allows you to define a function that behaves \n",
    "like an iterator, yielding values one at a time instead of returning them all at once. This makes it a memory-efficient way of working with large \n",
    "datasets, as it only generates the next value in the sequence when it is requested.\n",
    "\n",
    "The yield keyword is used in generator functions to indicate where a value should be returned and the state of the function should be saved. When the \n",
    "function is called again, it resumes from where it left off and continues executing until it encounters another yield statement, or reaches the end of\n",
    "the function and raises a StopIteration exception.\n",
    "\n",
    "Here's an example of a generator function that generates the Fibonacci sequence:\"\"\"\n",
    "def fibonacci():\n",
    "    a, b = 0, 1\n",
    "    while True:\n",
    "        yield a\n",
    "        a, b = b, a + b\n"
   ]
  },
  {
   "cell_type": "code",
   "execution_count": 13,
   "id": "0aba1900-87e8-4ce9-9c5c-b676722f53bb",
   "metadata": {},
   "outputs": [
    {
     "name": "stdout",
     "output_type": "stream",
     "text": [
      "0\n",
      "1\n",
      "1\n",
      "2\n",
      "3\n",
      "5\n",
      "8\n",
      "13\n",
      "21\n",
      "34\n"
     ]
    }
   ],
   "source": [
    "fib = fibonacci()\n",
    "\n",
    "for i in range(10):\n",
    "    print(next(fib))\n"
   ]
  },
  {
   "cell_type": "code",
   "execution_count": 14,
   "id": "d981fabe-ac27-44b9-9579-62d371ad3ed7",
   "metadata": {},
   "outputs": [],
   "source": [
    "#5.Create a generator function for prime number less than 1000. Use the next() method to print first 20 prime number.\n",
    "def primes():\n",
    "    num = 2\n",
    "    while num < 1000:\n",
    "        if all(num % i != 0 for i in range(2, int(num ** 0.5) + 1)):\n",
    "            yield num\n",
    "        num += 1\n"
   ]
  },
  {
   "cell_type": "code",
   "execution_count": 17,
   "id": "34170bdb-08e2-40d2-a8f4-8feb69466c83",
   "metadata": {},
   "outputs": [
    {
     "name": "stdout",
     "output_type": "stream",
     "text": [
      "2\n",
      "3\n",
      "5\n",
      "7\n",
      "11\n",
      "13\n",
      "17\n",
      "19\n",
      "23\n",
      "29\n",
      "31\n",
      "37\n",
      "41\n",
      "43\n",
      "47\n",
      "53\n",
      "59\n",
      "61\n",
      "67\n",
      "71\n"
     ]
    }
   ],
   "source": [
    "prime_generator = primes()\n",
    "\n",
    "for i in range(20):\n",
    "    print(next(prime_generator))\n"
   ]
  },
  {
   "cell_type": "code",
   "execution_count": 18,
   "id": "cdc9f686-f0a1-4d8b-83ab-ce5c7f61160f",
   "metadata": {},
   "outputs": [],
   "source": [
    "#6.Write a python program to print the first 10 Fibonacci number using a while loop.\n",
    "def fibonacci():\n",
    "    a, b = 0, 1\n",
    "    while True:\n",
    "        yield a\n",
    "        a, b = b, a + b"
   ]
  },
  {
   "cell_type": "code",
   "execution_count": 19,
   "id": "391ec9db-01cb-4f28-9a95-00719bf6b92c",
   "metadata": {},
   "outputs": [
    {
     "name": "stdout",
     "output_type": "stream",
     "text": [
      "0\n",
      "1\n",
      "1\n",
      "2\n",
      "3\n",
      "5\n",
      "8\n",
      "13\n",
      "21\n",
      "34\n"
     ]
    }
   ],
   "source": [
    "fib = fibonacci()\n",
    "\n",
    "for i in range(10):\n",
    "    print(next(fib))\n"
   ]
  },
  {
   "cell_type": "code",
   "execution_count": 21,
   "id": "65d6208e-a827-4126-9ede-997a0a003c29",
   "metadata": {},
   "outputs": [
    {
     "name": "stdout",
     "output_type": "stream",
     "text": [
      "['p', 'w', 's', 'k', 'i', 'l', 'l', 's']\n"
     ]
    }
   ],
   "source": [
    "#7.Write a Comprehension to iterate through the given string: \"pwskills\". Expected output: ['p','w','s','k','i','l','l','s']\n",
    "s = \"pwskills\"\n",
    "\n",
    "result = [c for i, c in enumerate(s) if i in range(0,len(s))]\n",
    "\n",
    "print(result)\n"
   ]
  },
  {
   "cell_type": "code",
   "execution_count": 22,
   "id": "8ab6bd2b-2e46-4c67-b187-6b2555fcddf9",
   "metadata": {},
   "outputs": [
    {
     "name": "stdin",
     "output_type": "stream",
     "text": [
      "Enter a number:  889\n"
     ]
    },
    {
     "name": "stdout",
     "output_type": "stream",
     "text": [
      "889 is not a palindrome\n"
     ]
    }
   ],
   "source": [
    "#8.Write a python program to check whether a given number is Pallindrome or not using a while loop.\n",
    "num = int(input(\"Enter a number: \"))\n",
    "\n",
    "temp = num\n",
    "reverse_num = 0\n",
    "\n",
    "while temp > 0:\n",
    "    remainder = temp % 10\n",
    "    reverse_num = (reverse_num * 10) + remainder\n",
    "    temp = temp // 10\n",
    "\n",
    "if num == reverse_num:\n",
    "    print(num, \"is a palindrome\")\n",
    "else:\n",
    "    print(num, \"is not a palindrome\")\n"
   ]
  },
  {
   "cell_type": "code",
   "execution_count": 23,
   "id": "d72975f9-575c-46c2-b8b0-b2e6aca77340",
   "metadata": {},
   "outputs": [
    {
     "name": "stdout",
     "output_type": "stream",
     "text": [
      "[1, 3, 5, 7, 9, 11, 13, 15, 17, 19, 21, 23, 25, 27, 29, 31, 33, 35, 37, 39, 41, 43, 45, 47, 49, 51, 53, 55, 57, 59, 61, 63, 65, 67, 69, 71, 73, 75, 77, 79, 81, 83, 85, 87, 89, 91, 93, 95, 97, 99]\n"
     ]
    }
   ],
   "source": [
    "#9.Write a code to print odd number from 1 to 100 using list comprehension. \n",
    "#Note:Use a list Comprehension to create a list from 1 to 100 and use another list comprehension to filter out odd numbers.\n",
    "# Using a single list comprehension\n",
    "odd_nums = [num for num in range(1, 101) if num % 2 != 0]\n",
    "\n",
    "print(odd_nums)\n"
   ]
  },
  {
   "cell_type": "code",
   "execution_count": null,
   "id": "02bcc846-9dca-4fdd-b0cd-790e3b3d24a4",
   "metadata": {},
   "outputs": [],
   "source": []
  }
 ],
 "metadata": {
  "kernelspec": {
   "display_name": "Python 3 (ipykernel)",
   "language": "python",
   "name": "python3"
  },
  "language_info": {
   "codemirror_mode": {
    "name": "ipython",
    "version": 3
   },
   "file_extension": ".py",
   "mimetype": "text/x-python",
   "name": "python",
   "nbconvert_exporter": "python",
   "pygments_lexer": "ipython3",
   "version": "3.10.6"
  }
 },
 "nbformat": 4,
 "nbformat_minor": 5
}
